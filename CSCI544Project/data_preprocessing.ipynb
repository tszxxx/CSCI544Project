{
 "cells": [
  {
   "cell_type": "code",
   "execution_count": 1,
   "metadata": {},
   "outputs": [],
   "source": [
    "import numpy as np\n",
    "import pandas as pd\n",
    "import jieba\n",
    "import random\n",
    "import re\n",
    "from gensim.models.word2vec import LineSentence\n",
    "from gensim.models import word2vec\n",
    "import gensim"
   ]
  },
  {
   "cell_type": "code",
   "execution_count": 2,
   "metadata": {},
   "outputs": [],
   "source": [
    "def load_data(data_path):\n",
    "    data = pd.read_csv(data_path)\n",
    "    data = data.fillna('')\n",
    "    \n",
    "#     test_data_index = random.choice(range(len(data)), len(data) // 4)\n",
    "#     test_data = data[data.index.isin(test_data_index)]\n",
    "#     train_data = data[~data.index.isin(test_data_index)]\n",
    "#     return train_data, test_data\n",
    "    return data\n",
    "\n",
    "def load_stopwords(stopwords_path):\n",
    "    return [word.strip() for word in open(stopwords_path, encoding = 'utf-8')]\n",
    "\n",
    "def clean_sentence(sentence):\n",
    "    pattern = r'\\（.*?\\）'\n",
    "    sentence = re.sub(pattern, '', sentence)\n",
    "    return sentence\n",
    "\n",
    "def process_sentence(sentence):\n",
    "    sentence = clean_sentence(sentence)\n",
    "    \n",
    "    stopwords = load_stopwords('stopwords.txt')\n",
    "    return ' '.join([word for word in jieba.lcut(sentence) if word not in stopwords])"
   ]
  },
  {
   "cell_type": "code",
   "execution_count": 3,
   "metadata": {},
   "outputs": [
    {
     "name": "stderr",
     "output_type": "stream",
     "text": [
      "Building prefix dict from the default dictionary ...\n",
      "Loading model from cache /var/folders/4x/l9lh69rx2s119d4xt52d5pz00000gn/T/jieba.cache\n",
      "Loading model cost 0.652 seconds.\n",
      "Prefix dict has been built successfully.\n"
     ]
    }
   ],
   "source": [
    "data = load_data('Movie_information.csv')\n",
    "data['tokenized_description'] = data.apply(lambda x: process_sentence(x[1]) + ' ' + process_sentence(x[2]), axis = 1)"
   ]
  },
  {
   "cell_type": "code",
   "execution_count": 4,
   "metadata": {},
   "outputs": [],
   "source": [
    "data['actor'] = data.apply(lambda x: ' '.join(x[3].split(',')), axis = 1)\n",
    "data['director'] = data.apply(lambda x: ' '.join(x[4].split(',')), axis = 1)\n",
    "data['screen_writer'] = data.apply(lambda x: ' '.join(x[5].split(',')), axis = 1)"
   ]
  },
  {
   "cell_type": "code",
   "execution_count": 5,
   "metadata": {},
   "outputs": [
    {
     "data": {
      "text/html": [
       "<div>\n",
       "<style scoped>\n",
       "    .dataframe tbody tr th:only-of-type {\n",
       "        vertical-align: middle;\n",
       "    }\n",
       "\n",
       "    .dataframe tbody tr th {\n",
       "        vertical-align: top;\n",
       "    }\n",
       "\n",
       "    .dataframe thead th {\n",
       "        text-align: right;\n",
       "    }\n",
       "</style>\n",
       "<table border=\"1\" class=\"dataframe\">\n",
       "  <thead>\n",
       "    <tr style=\"text-align: right;\">\n",
       "      <th></th>\n",
       "      <th>id</th>\n",
       "      <th>电影名</th>\n",
       "      <th>内容简介</th>\n",
       "      <th>主演</th>\n",
       "      <th>导演</th>\n",
       "      <th>编剧</th>\n",
       "      <th>评分</th>\n",
       "      <th>预告片URL</th>\n",
       "      <th>tokenized_description</th>\n",
       "      <th>actor</th>\n",
       "      <th>director</th>\n",
       "      <th>screen_writer</th>\n",
       "    </tr>\n",
       "  </thead>\n",
       "  <tbody>\n",
       "    <tr>\n",
       "      <th>0</th>\n",
       "      <td>1292900</td>\n",
       "      <td>摇啊摇，摇到外婆桥</td>\n",
       "      <td>1930年代，乡村少年唐水生来到上海投靠六叔（李雪健），在他的引荐下，做了歌舞皇后小金宝（巩...</td>\n",
       "      <td>巩俐,李保田,李雪健,孙淳</td>\n",
       "      <td>张艺谋</td>\n",
       "      <td>毕飞宇</td>\n",
       "      <td>7.2</td>\n",
       "      <td></td>\n",
       "      <td>摇 摇 摇 外婆桥 1930 年代 乡村 少年 唐 水生 来到 上海 投靠 六叔 引荐 歌舞...</td>\n",
       "      <td>巩俐 李保田 李雪健 孙淳</td>\n",
       "      <td>张艺谋</td>\n",
       "      <td>毕飞宇</td>\n",
       "    </tr>\n",
       "    <tr>\n",
       "      <th>1</th>\n",
       "      <td>34937798</td>\n",
       "      <td>杨门少年</td>\n",
       "      <td>本片以时局动荡的五代十国时期为背景，讲述了杨继业和佘太君年轻时候的故事：后汉末年，皇位空缺、...</td>\n",
       "      <td>杨清,赵菁,战克林,李沛霖</td>\n",
       "      <td>吴远博</td>\n",
       "      <td>吴远博,飞刀叶</td>\n",
       "      <td>0.0</td>\n",
       "      <td></td>\n",
       "      <td>杨门 少年 本片 时局动荡 五代十国 时期 背景 讲述 杨继业 佘太君 年轻 故事 后汉 末...</td>\n",
       "      <td>杨清 赵菁 战克林 李沛霖</td>\n",
       "      <td>吴远博</td>\n",
       "      <td>吴远博 飞刀叶</td>\n",
       "    </tr>\n",
       "    <tr>\n",
       "      <th>2</th>\n",
       "      <td>4306001</td>\n",
       "      <td>关东民谣</td>\n",
       "      <td>新上任的青山乡党委书记秦丽璞，从村里流传的民谣中了解到领导干部的腐败现象，给村民带来的不满情...</td>\n",
       "      <td>刘欣</td>\n",
       "      <td>高天红</td>\n",
       "      <td>高满堂,王霆钧</td>\n",
       "      <td>0.0</td>\n",
       "      <td></td>\n",
       "      <td>关东 民谣 新 上任 青山 乡 党委书记 秦丽璞 村里 流传 民谣 领导 干部 腐败现象 村...</td>\n",
       "      <td>刘欣</td>\n",
       "      <td>高天红</td>\n",
       "      <td>高满堂 王霆钧</td>\n",
       "    </tr>\n",
       "    <tr>\n",
       "      <th>3</th>\n",
       "      <td>5318664</td>\n",
       "      <td>中国记忆：大将粟裕</td>\n",
       "      <td>在解放军开国将帅当中粟裕的经历颇为传奇，1927年他参加南昌起义的时候只有20岁，那时候是一...</td>\n",
       "      <td></td>\n",
       "      <td>凤凰卫视</td>\n",
       "      <td></td>\n",
       "      <td>0.0</td>\n",
       "      <td></td>\n",
       "      <td>中国 记忆 大将 粟裕 解放军 开国 将帅 当中 粟裕 经历 颇为 传奇 1927 参加 南...</td>\n",
       "      <td></td>\n",
       "      <td>凤凰卫视</td>\n",
       "      <td></td>\n",
       "    </tr>\n",
       "    <tr>\n",
       "      <th>4</th>\n",
       "      <td>1433417</td>\n",
       "      <td>向日葵</td>\n",
       "      <td>本片延续了张扬在《洗澡》、《昨天》等影片中所呈现的中国式父子冲突与和解，以1976、1987...</td>\n",
       "      <td>孙海英,陈冲,王海地,张凡</td>\n",
       "      <td>张杨</td>\n",
       "      <td>蔡尚君,张杨,霍昕</td>\n",
       "      <td>7.6</td>\n",
       "      <td></td>\n",
       "      <td>向日葵 本片 延续 张扬 洗澡 昨天 影片 呈现 中国式 父子 冲突 和解 1976 198...</td>\n",
       "      <td>孙海英 陈冲 王海地 张凡</td>\n",
       "      <td>张杨</td>\n",
       "      <td>蔡尚君 张杨 霍昕</td>\n",
       "    </tr>\n",
       "  </tbody>\n",
       "</table>\n",
       "</div>"
      ],
      "text/plain": [
       "         id        电影名                                               内容简介  \\\n",
       "0   1292900  摇啊摇，摇到外婆桥  1930年代，乡村少年唐水生来到上海投靠六叔（李雪健），在他的引荐下，做了歌舞皇后小金宝（巩...   \n",
       "1  34937798       杨门少年  本片以时局动荡的五代十国时期为背景，讲述了杨继业和佘太君年轻时候的故事：后汉末年，皇位空缺、...   \n",
       "2   4306001       关东民谣  新上任的青山乡党委书记秦丽璞，从村里流传的民谣中了解到领导干部的腐败现象，给村民带来的不满情...   \n",
       "3   5318664  中国记忆：大将粟裕  在解放军开国将帅当中粟裕的经历颇为传奇，1927年他参加南昌起义的时候只有20岁，那时候是一...   \n",
       "4   1433417        向日葵  本片延续了张扬在《洗澡》、《昨天》等影片中所呈现的中国式父子冲突与和解，以1976、1987...   \n",
       "\n",
       "              主演    导演         编剧   评分 预告片URL  \\\n",
       "0  巩俐,李保田,李雪健,孙淳   张艺谋        毕飞宇  7.2          \n",
       "1  杨清,赵菁,战克林,李沛霖   吴远博    吴远博,飞刀叶  0.0          \n",
       "2             刘欣   高天红    高满堂,王霆钧  0.0          \n",
       "3                 凤凰卫视             0.0          \n",
       "4  孙海英,陈冲,王海地,张凡    张杨  蔡尚君,张杨,霍昕  7.6          \n",
       "\n",
       "                               tokenized_description          actor director  \\\n",
       "0  摇 摇 摇 外婆桥 1930 年代 乡村 少年 唐 水生 来到 上海 投靠 六叔 引荐 歌舞...  巩俐 李保田 李雪健 孙淳      张艺谋   \n",
       "1  杨门 少年 本片 时局动荡 五代十国 时期 背景 讲述 杨继业 佘太君 年轻 故事 后汉 末...  杨清 赵菁 战克林 李沛霖      吴远博   \n",
       "2  关东 民谣 新 上任 青山 乡 党委书记 秦丽璞 村里 流传 民谣 领导 干部 腐败现象 村...             刘欣      高天红   \n",
       "3  中国 记忆 大将 粟裕 解放军 开国 将帅 当中 粟裕 经历 颇为 传奇 1927 参加 南...                    凤凰卫视   \n",
       "4  向日葵 本片 延续 张扬 洗澡 昨天 影片 呈现 中国式 父子 冲突 和解 1976 198...  孙海英 陈冲 王海地 张凡       张杨   \n",
       "\n",
       "  screen_writer  \n",
       "0           毕飞宇  \n",
       "1       吴远博 飞刀叶  \n",
       "2       高满堂 王霆钧  \n",
       "3                \n",
       "4     蔡尚君 张杨 霍昕  "
      ]
     },
     "execution_count": 5,
     "metadata": {},
     "output_type": "execute_result"
    }
   ],
   "source": [
    "data.head()"
   ]
  },
  {
   "cell_type": "code",
   "execution_count": 6,
   "metadata": {},
   "outputs": [
    {
     "data": {
      "text/html": [
       "<div>\n",
       "<style scoped>\n",
       "    .dataframe tbody tr th:only-of-type {\n",
       "        vertical-align: middle;\n",
       "    }\n",
       "\n",
       "    .dataframe tbody tr th {\n",
       "        vertical-align: top;\n",
       "    }\n",
       "\n",
       "    .dataframe thead th {\n",
       "        text-align: right;\n",
       "    }\n",
       "</style>\n",
       "<table border=\"1\" class=\"dataframe\">\n",
       "  <thead>\n",
       "    <tr style=\"text-align: right;\">\n",
       "      <th></th>\n",
       "      <th>descriptions</th>\n",
       "      <th>scores</th>\n",
       "    </tr>\n",
       "  </thead>\n",
       "  <tbody>\n",
       "    <tr>\n",
       "      <th>0</th>\n",
       "      <td>摇 摇 摇 外婆桥 1930 年代 乡村 少年 唐 水生 来到 上海 投靠 六叔 引荐 歌舞...</td>\n",
       "      <td>1</td>\n",
       "    </tr>\n",
       "    <tr>\n",
       "      <th>4</th>\n",
       "      <td>向日葵 本片 延续 张扬 洗澡 昨天 影片 呈现 中国式 父子 冲突 和解 1976 198...</td>\n",
       "      <td>1</td>\n",
       "    </tr>\n",
       "    <tr>\n",
       "      <th>6</th>\n",
       "      <td>囧 途之泰 囧 商业 成功人士 徐朗用 五年 时间 发明 一种 油霸 神奇 产品 — — 每...</td>\n",
       "      <td>1</td>\n",
       "    </tr>\n",
       "    <tr>\n",
       "      <th>7</th>\n",
       "      <td>少林寺 隋朝 末年 隋 王世充 侄子 王仁则 督建 河防 工事 杀死 反抗 暴虐 神腿 张 ...</td>\n",
       "      <td>1</td>\n",
       "    </tr>\n",
       "    <tr>\n",
       "      <th>9</th>\n",
       "      <td>斗地主 故事 发生 民国初年 春天 青楼 当红 头牌 无数 男人 一睹 芳泽 散尽 千金 某...</td>\n",
       "      <td>0</td>\n",
       "    </tr>\n",
       "  </tbody>\n",
       "</table>\n",
       "</div>"
      ],
      "text/plain": [
       "                                        descriptions  scores\n",
       "0  摇 摇 摇 外婆桥 1930 年代 乡村 少年 唐 水生 来到 上海 投靠 六叔 引荐 歌舞...       1\n",
       "4  向日葵 本片 延续 张扬 洗澡 昨天 影片 呈现 中国式 父子 冲突 和解 1976 198...       1\n",
       "6  囧 途之泰 囧 商业 成功人士 徐朗用 五年 时间 发明 一种 油霸 神奇 产品 — — 每...       1\n",
       "7  少林寺 隋朝 末年 隋 王世充 侄子 王仁则 督建 河防 工事 杀死 反抗 暴虐 神腿 张 ...       1\n",
       "9  斗地主 故事 发生 民国初年 春天 青楼 当红 头牌 无数 男人 一睹 芳泽 散尽 千金 某...       0"
      ]
     },
     "execution_count": 6,
     "metadata": {},
     "output_type": "execute_result"
    }
   ],
   "source": [
    "merged_data = data.apply(lambda x: ' '.join(x[8:]), axis = 1)\n",
    "merged_data = pd.concat([merged_data, data['评分']], axis = 1)\n",
    "merged_data.columns = ['descriptions', 'scores']\n",
    "merged_data = merged_data[merged_data['scores'] > 0]\n",
    "merged_data['scores'] = merged_data.apply(lambda x: 1 if x[1] > 5 else 0, axis = 1)\n",
    "merged_data.head()"
   ]
  },
  {
   "cell_type": "code",
   "execution_count": 7,
   "metadata": {},
   "outputs": [
    {
     "name": "stderr",
     "output_type": "stream",
     "text": [
      "/anaconda3/lib/python3.7/site-packages/ipykernel_launcher.py:1: FutureWarning: The signature of `Series.to_csv` was aligned to that of `DataFrame.to_csv`, and argument 'header' will change its default value from False to True: please pass an explicit value to suppress this warning.\n",
      "  \"\"\"Entry point for launching an IPython kernel.\n"
     ]
    }
   ],
   "source": [
    "merged_data['descriptions'].to_csv('description.csv', header = None, index = False)\n",
    "merged_data.to_csv('movie_info.csv')"
   ]
  },
  {
   "cell_type": "code",
   "execution_count": 8,
   "metadata": {},
   "outputs": [],
   "source": [
    "model_wv = word2vec.Word2Vec(LineSentence('description.csv'), sg=1,workers=8,min_count=2,size=100)"
   ]
  },
  {
   "cell_type": "code",
   "execution_count": 9,
   "metadata": {},
   "outputs": [
    {
     "data": {
      "text/html": [
       "<div>\n",
       "<style scoped>\n",
       "    .dataframe tbody tr th:only-of-type {\n",
       "        vertical-align: middle;\n",
       "    }\n",
       "\n",
       "    .dataframe tbody tr th {\n",
       "        vertical-align: top;\n",
       "    }\n",
       "\n",
       "    .dataframe thead th {\n",
       "        text-align: right;\n",
       "    }\n",
       "</style>\n",
       "<table border=\"1\" class=\"dataframe\">\n",
       "  <thead>\n",
       "    <tr style=\"text-align: right;\">\n",
       "      <th></th>\n",
       "      <th>descriptions</th>\n",
       "      <th>scores</th>\n",
       "    </tr>\n",
       "  </thead>\n",
       "  <tbody>\n",
       "    <tr>\n",
       "      <th>0</th>\n",
       "      <td>摇 摇 摇 外婆桥 1930 年代 乡村 少年 唐 水生 来到 上海 投靠 六叔 引荐 歌舞...</td>\n",
       "      <td>1</td>\n",
       "    </tr>\n",
       "    <tr>\n",
       "      <th>4</th>\n",
       "      <td>向日葵 本片 延续 张扬 洗澡 昨天 影片 呈现 中国式 父子 冲突 和解 1976 198...</td>\n",
       "      <td>1</td>\n",
       "    </tr>\n",
       "    <tr>\n",
       "      <th>6</th>\n",
       "      <td>囧 途之泰 囧 商业 成功人士 徐朗用 五年 时间 发明 一种 油霸 神奇 产品 — — 每...</td>\n",
       "      <td>1</td>\n",
       "    </tr>\n",
       "    <tr>\n",
       "      <th>7</th>\n",
       "      <td>少林寺 隋朝 末年 隋 王世充 侄子 王仁则 督建 河防 工事 杀死 反抗 暴虐 神腿 张 ...</td>\n",
       "      <td>1</td>\n",
       "    </tr>\n",
       "    <tr>\n",
       "      <th>9</th>\n",
       "      <td>斗地主 故事 发生 民国初年 春天 青楼 当红 头牌 无数 男人 一睹 芳泽 散尽 千金 某...</td>\n",
       "      <td>0</td>\n",
       "    </tr>\n",
       "  </tbody>\n",
       "</table>\n",
       "</div>"
      ],
      "text/plain": [
       "                                        descriptions  scores\n",
       "0  摇 摇 摇 外婆桥 1930 年代 乡村 少年 唐 水生 来到 上海 投靠 六叔 引荐 歌舞...       1\n",
       "4  向日葵 本片 延续 张扬 洗澡 昨天 影片 呈现 中国式 父子 冲突 和解 1976 198...       1\n",
       "6  囧 途之泰 囧 商业 成功人士 徐朗用 五年 时间 发明 一种 油霸 神奇 产品 — — 每...       1\n",
       "7  少林寺 隋朝 末年 隋 王世充 侄子 王仁则 督建 河防 工事 杀死 反抗 暴虐 神腿 张 ...       1\n",
       "9  斗地主 故事 发生 民国初年 春天 青楼 当红 头牌 无数 男人 一睹 芳泽 散尽 千金 某...       0"
      ]
     },
     "execution_count": 9,
     "metadata": {},
     "output_type": "execute_result"
    }
   ],
   "source": [
    "merged_data.head()"
   ]
  },
  {
   "cell_type": "code",
   "execution_count": 10,
   "metadata": {},
   "outputs": [
    {
     "data": {
      "text/plain": [
       "(30484, 100)"
      ]
     },
     "execution_count": 10,
     "metadata": {},
     "output_type": "execute_result"
    }
   ],
   "source": [
    "model_wv.wv.vectors.shape"
   ]
  },
  {
   "cell_type": "code",
   "execution_count": 11,
   "metadata": {},
   "outputs": [
    {
     "data": {
      "text/plain": [
       "(2835, 2)"
      ]
     },
     "execution_count": 11,
     "metadata": {},
     "output_type": "execute_result"
    }
   ],
   "source": [
    "merged_data.shape"
   ]
  },
  {
   "cell_type": "code",
   "execution_count": 12,
   "metadata": {},
   "outputs": [],
   "source": [
    "model_wv.save('word2vec_model')"
   ]
  },
  {
   "cell_type": "code",
   "execution_count": 13,
   "metadata": {},
   "outputs": [],
   "source": [
    "def get_max_len(data):\n",
    "    '''\n",
    "    max_len = mean(max lenths of each entry sentence) + 2 * standard deviation\n",
    "    '''\n",
    "    max_lens = data.apply(lambda x: x.count(' '))\n",
    "    return int(np.mean(max_lens) + 2 * np.std(max_lens))\n",
    "\n",
    "def pad_sentence(sentence, max_len, vocab):\n",
    "    '''\n",
    "    <START> ...<UNK>... <END> <PAD>\n",
    "    '''\n",
    "    words = sentence.split()[:max_len]\n",
    "    \n",
    "    sentence = [word if word in vocab else '<UNK>' for word in words]\n",
    "    \n",
    "    sentence = ['<START>'] + sentence + ['<END>']\n",
    "    sentence = sentence + ['<PAD>'] * (max_len + 2 - len(words))\n",
    "    return ' '.join(sentence)"
   ]
  },
  {
   "cell_type": "code",
   "execution_count": 14,
   "metadata": {},
   "outputs": [
    {
     "name": "stdout",
     "output_type": "stream",
     "text": [
      "max: 349\n"
     ]
    }
   ],
   "source": [
    "vocab = model_wv.wv.vocab\n",
    "max_len = get_max_len(merged_data['descriptions'])\n",
    "print('max: {}'.format(max_len))\n",
    "merged_data['descriptions'] = merged_data.apply(lambda x: pad_sentence(x[0], max_len, vocab), axis = 1)"
   ]
  },
  {
   "cell_type": "code",
   "execution_count": 15,
   "metadata": {},
   "outputs": [
    {
     "data": {
      "text/html": [
       "<div>\n",
       "<style scoped>\n",
       "    .dataframe tbody tr th:only-of-type {\n",
       "        vertical-align: middle;\n",
       "    }\n",
       "\n",
       "    .dataframe tbody tr th {\n",
       "        vertical-align: top;\n",
       "    }\n",
       "\n",
       "    .dataframe thead th {\n",
       "        text-align: right;\n",
       "    }\n",
       "</style>\n",
       "<table border=\"1\" class=\"dataframe\">\n",
       "  <thead>\n",
       "    <tr style=\"text-align: right;\">\n",
       "      <th></th>\n",
       "      <th>descriptions</th>\n",
       "      <th>scores</th>\n",
       "    </tr>\n",
       "  </thead>\n",
       "  <tbody>\n",
       "    <tr>\n",
       "      <th>0</th>\n",
       "      <td>&lt;START&gt; 摇 摇 摇 外婆桥 1930 年代 乡村 少年 唐 水生 来到 上海 投靠 ...</td>\n",
       "      <td>1</td>\n",
       "    </tr>\n",
       "    <tr>\n",
       "      <th>4</th>\n",
       "      <td>&lt;START&gt; 向日葵 本片 延续 张扬 洗澡 昨天 影片 呈现 中国式 父子 冲突 和解 ...</td>\n",
       "      <td>1</td>\n",
       "    </tr>\n",
       "    <tr>\n",
       "      <th>6</th>\n",
       "      <td>&lt;START&gt; 囧 &lt;UNK&gt; 囧 商业 &lt;UNK&gt; &lt;UNK&gt; 五年 时间 发明 一种 油...</td>\n",
       "      <td>1</td>\n",
       "    </tr>\n",
       "    <tr>\n",
       "      <th>7</th>\n",
       "      <td>&lt;START&gt; 少林寺 &lt;UNK&gt; 末年 隋 &lt;UNK&gt; 侄子 王仁则 &lt;UNK&gt; &lt;UNK...</td>\n",
       "      <td>1</td>\n",
       "    </tr>\n",
       "    <tr>\n",
       "      <th>9</th>\n",
       "      <td>&lt;START&gt; 斗地主 故事 发生 民国初年 春天 青楼 当红 头牌 无数 男人 &lt;UNK&gt;...</td>\n",
       "      <td>0</td>\n",
       "    </tr>\n",
       "  </tbody>\n",
       "</table>\n",
       "</div>"
      ],
      "text/plain": [
       "                                        descriptions  scores\n",
       "0  <START> 摇 摇 摇 外婆桥 1930 年代 乡村 少年 唐 水生 来到 上海 投靠 ...       1\n",
       "4  <START> 向日葵 本片 延续 张扬 洗澡 昨天 影片 呈现 中国式 父子 冲突 和解 ...       1\n",
       "6  <START> 囧 <UNK> 囧 商业 <UNK> <UNK> 五年 时间 发明 一种 油...       1\n",
       "7  <START> 少林寺 <UNK> 末年 隋 <UNK> 侄子 王仁则 <UNK> <UNK...       1\n",
       "9  <START> 斗地主 故事 发生 民国初年 春天 青楼 当红 头牌 无数 男人 <UNK>...       0"
      ]
     },
     "execution_count": 15,
     "metadata": {},
     "output_type": "execute_result"
    }
   ],
   "source": [
    "merged_data.head()"
   ]
  },
  {
   "cell_type": "code",
   "execution_count": 16,
   "metadata": {},
   "outputs": [
    {
     "name": "stderr",
     "output_type": "stream",
     "text": [
      "/anaconda3/lib/python3.7/site-packages/ipykernel_launcher.py:1: FutureWarning: The signature of `Series.to_csv` was aligned to that of `DataFrame.to_csv`, and argument 'header' will change its default value from False to True: please pass an explicit value to suppress this warning.\n",
      "  \"\"\"Entry point for launching an IPython kernel.\n"
     ]
    },
    {
     "name": "stdout",
     "output_type": "stream",
     "text": [
      "begin retraining word2vec model\n",
      "finish retraining w2v model\n",
      "final w2v_model has vocabulary of  30490\n"
     ]
    }
   ],
   "source": [
    "merged_data['descriptions'].to_csv('padded_descriptions.csv', index = False, header = None)\n",
    "merged_data.to_csv('processed_data.csv')\n",
    "print('begin retraining word2vec model')\n",
    "model_wv.build_vocab(LineSentence('padded_descriptions.csv'), update=True)\n",
    "model_wv.train(LineSentence('padded_descriptions.csv'), epochs = 2, total_examples = model_wv.corpus_count)\n",
    "\n",
    "model_wv.save('pad_word2vec_model')\n",
    "print('finish retraining w2v model')\n",
    "print('final w2v_model has vocabulary of ', len(model_wv.wv.vocab))"
   ]
  },
  {
   "cell_type": "code",
   "execution_count": null,
   "metadata": {},
   "outputs": [],
   "source": []
  }
 ],
 "metadata": {
  "kernelspec": {
   "display_name": "Python 3",
   "language": "python",
   "name": "python3"
  },
  "language_info": {
   "codemirror_mode": {
    "name": "ipython",
    "version": 3
   },
   "file_extension": ".py",
   "mimetype": "text/x-python",
   "name": "python",
   "nbconvert_exporter": "python",
   "pygments_lexer": "ipython3",
   "version": "3.7.3"
  }
 },
 "nbformat": 4,
 "nbformat_minor": 2
}
